{
 "cells": [
  {
   "cell_type": "markdown",
   "metadata": {},
   "source": [
    "# Playing connect-four\n",
    "Based on a Deep Q-Network using both Double DQN and Dueling DQN. To learn more, read here: https://medium.com/p/8438a3e2b8df"
   ]
  },
  {
   "cell_type": "code",
   "execution_count": 1,
   "metadata": {},
   "outputs": [],
   "source": [
    "from __future__ import division\n",
    "import numpy as np\n",
    "import matplotlib.pyplot as plt\n",
    "\n",
    "%matplotlib inline"
   ]
  },
  {
   "cell_type": "markdown",
   "metadata": {},
   "source": [
    "### Load the game environment"
   ]
  },
  {
   "cell_type": "code",
   "execution_count": null,
   "metadata": {},
   "outputs": [],
   "source": [
    "from environment import ConnectFourEnvironment\n",
    "\n",
    "env = ConnectFourEnvironment()"
   ]
  },
  {
   "cell_type": "markdown",
   "metadata": {},
   "source": [
    "### Training the network"
   ]
  },
  {
   "cell_type": "code",
   "execution_count": null,
   "metadata": {},
   "outputs": [
    {
     "name": "stdout",
     "output_type": "stream",
     "text": [
      "WARNING:tensorflow:From /home/avontuur/idea/connect-four/qnetwork.py:35: calling reduce_mean (from tensorflow.python.ops.math_ops) with keep_dims is deprecated and will be removed in a future version.\n",
      "Instructions for updating:\n",
      "keep_dims is deprecated, use keepdims instead\n",
      "1000 -0.928 0.49951\n",
      "2000 -0.956 0.009510000000006891\n",
      "3000 -0.908 0.009510000000006891\n",
      "4000 -0.768 0.009510000000006891\n",
      "Saved Model model-5000-15.ckpt\n",
      "5000 -0.704 0.009510000000006891\n",
      "6000 -0.668 0.009510000000006891\n",
      "7000 -0.628 0.009510000000006891\n",
      "8000 -0.624 0.009510000000006891\n",
      "9000 -0.584 0.009510000000006891\n",
      "Saved Model model-10000-30.ckpt\n",
      "10000 -0.572 0.009510000000006891\n",
      "11000 -0.524 0.009510000000006891\n"
     ]
    }
   ],
   "source": [
    "from trainer import Trainer\n",
    "\n",
    "trainer = Trainer()\n",
    "trainer.load_model = False\n",
    "rList = trainer.train(env)\n",
    "\n"
   ]
  },
  {
   "cell_type": "markdown",
   "metadata": {},
   "source": [
    "### Checking network learning"
   ]
  },
  {
   "cell_type": "markdown",
   "metadata": {},
   "source": [
    "Mean reward over time"
   ]
  },
  {
   "cell_type": "code",
   "execution_count": null,
   "metadata": {},
   "outputs": [],
   "source": [
    "rMat = np.resize(np.array(rList),[len(rList)//100,100])\n",
    "rMean = np.average(rMat,1)\n",
    "plt.plot(rMean)"
   ]
  },
  {
   "cell_type": "code",
   "execution_count": null,
   "metadata": {},
   "outputs": [],
   "source": []
  }
 ],
 "metadata": {
  "anaconda-cloud": {},
  "kernelspec": {
   "display_name": "Python 3",
   "language": "python",
   "name": "python3"
  },
  "language_info": {
   "codemirror_mode": {
    "name": "ipython",
    "version": 3
   },
   "file_extension": ".py",
   "mimetype": "text/x-python",
   "name": "python",
   "nbconvert_exporter": "python",
   "pygments_lexer": "ipython3",
   "version": "3.6.7"
  }
 },
 "nbformat": 4,
 "nbformat_minor": 1
}
