{
 "cells": [
  {
   "cell_type": "code",
   "execution_count": 1,
   "metadata": {},
   "outputs": [],
   "source": [
    "from __future__ import division\n",
    "\n",
    "import numpy as np\n",
    "import random\n",
    "import tensorflow as tf\n",
    "import tensorflow.contrib.slim as slim\n",
    "import matplotlib.pyplot as plt\n",
    "import scipy.misc\n",
    "import os\n",
    "%matplotlib inline"
   ]
  },
  {
   "cell_type": "markdown",
   "metadata": {},
   "source": [
    "### Load the game environment"
   ]
  },
  {
   "cell_type": "code",
   "execution_count": 2,
   "metadata": {
    "scrolled": false
   },
   "outputs": [],
   "source": [
    "from environment import ConnectFourEnvironment\n",
    "\n",
    "env = ConnectFourEnvironment()"
   ]
  },
  {
   "cell_type": "markdown",
   "metadata": {},
   "source": [
    "### Implementing the network itself"
   ]
  },
  {
   "cell_type": "code",
   "execution_count": 3,
   "metadata": {},
   "outputs": [],
   "source": [
    "class Qnetwork():\n",
    "    def __init__(self,h_size):\n",
    "        #The network recieves a frame from the game, flattened into an array.\n",
    "        #It then resizes it and processes it through four convolutional layers.\n",
    "        self.scalarInput =  tf.placeholder(shape=[None,7*6*2],dtype=tf.float32)\n",
    "        self.imageIn = tf.reshape(self.scalarInput,shape=[-1,7,6,2])\n",
    "        self.conv1 = slim.conv2d( \\\n",
    "            inputs=self.imageIn,num_outputs=32,kernel_size=[4,4],stride=[1,1],padding='SAME', biases_initializer=None)\n",
    "        self.conv2 = slim.conv2d( \\\n",
    "            inputs=self.conv1,num_outputs=64,kernel_size=[3,3],stride=[1,1],padding='SAME', biases_initializer=None)\n",
    "        self.conv3 = slim.conv2d( \\\n",
    "            inputs=self.conv2,num_outputs=64,kernel_size=[2,2],stride=[1,1],padding='SAME', biases_initializer=None)\n",
    "        self.conv4 = slim.conv2d( \\\n",
    "            inputs=self.conv3,num_outputs=h_size,kernel_size=[7,6],stride=[1,1],padding='VALID', biases_initializer=None)\n",
    "        \n",
    "        #We take the output from the final convolutional layer and split it into separate advantage and value streams.\n",
    "        self.streamAC,self.streamVC = tf.split(self.conv4,2,3)\n",
    "        self.streamA = slim.flatten(self.streamAC)\n",
    "        self.streamV = slim.flatten(self.streamVC)\n",
    "        xavier_init = tf.contrib.layers.xavier_initializer()\n",
    "        self.AW = tf.Variable(xavier_init([h_size//2,env.actions]))\n",
    "        self.VW = tf.Variable(xavier_init([h_size//2,1]))\n",
    "        self.Advantage = tf.matmul(self.streamA,self.AW)\n",
    "        self.Value = tf.matmul(self.streamV,self.VW)\n",
    "        \n",
    "        #Then combine them together to get our final Q-values.\n",
    "        self.Qout = self.Value + tf.subtract(self.Advantage,tf.reduce_mean(self.Advantage,axis=1,keep_dims=True))\n",
    "        self.predict = tf.argmax(self.Qout,1)\n",
    "        \n",
    "        #Below we obtain the loss by taking the sum of squares difference between the target and prediction Q values.\n",
    "        self.targetQ = tf.placeholder(shape=[None],dtype=tf.float32)\n",
    "        self.actions = tf.placeholder(shape=[None],dtype=tf.int32)\n",
    "        self.actions_onehot = tf.one_hot(self.actions,env.actions,dtype=tf.float32)\n",
    "        \n",
    "        self.Q = tf.reduce_sum(tf.multiply(self.Qout, self.actions_onehot), axis=1)\n",
    "        \n",
    "        self.td_error = tf.square(self.targetQ - self.Q)\n",
    "        self.loss = tf.reduce_mean(self.td_error)\n",
    "        self.trainer = tf.train.AdamOptimizer(learning_rate=0.0001)\n",
    "        self.updateModel = self.trainer.minimize(self.loss)"
   ]
  },
  {
   "cell_type": "markdown",
   "metadata": {},
   "source": [
    "This is a simple function to resize our game frames."
   ]
  },
  {
   "cell_type": "code",
   "execution_count": 4,
   "metadata": {},
   "outputs": [],
   "source": [
    "def processState(states):\n",
    "    return np.reshape(states,[7*6*2])"
   ]
  },
  {
   "cell_type": "markdown",
   "metadata": {},
   "source": [
    "### Validating the network"
   ]
  },
  {
   "cell_type": "markdown",
   "metadata": {},
   "source": [
    "Setting all the validation parameters"
   ]
  },
  {
   "cell_type": "code",
   "execution_count": 5,
   "metadata": {},
   "outputs": [],
   "source": [
    "play_level = 2\n",
    "num_episodes = 1000 #How many episodes of game environment to train network with.\n",
    "max_epLength = 50 #The max allowed length of our episode.\n",
    "path = \"./dqn\" #The path to save our model to.\n",
    "h_size = 14 #The size of the final convolutional layer before splitting it into Advantage and Value streams."
   ]
  },
  {
   "cell_type": "code",
   "execution_count": 8,
   "metadata": {
    "scrolled": true,
    "collapsed": true
   },
   "outputs": [
    {
     "name": "stdout",
     "output_type": "stream",
     "text": [
      "Loading Model...\n",
      "INFO:tensorflow:Restoring parameters from ./dqn/model-199999.ckpt\n",
      "9 7 0.7\n",
      "19 10 0.7\n",
      "29 8 0.6\n",
      "39 11 0.7\n",
      "49 10 0.3\n",
      "59 15 0.5\n",
      "69 11 0.2\n",
      "79 12 0.5\n",
      "89 6 0.5\n",
      "99 12 0.7\n",
      "109 11 0.5\n",
      "119 11 0.7\n",
      "129 6 0.7\n",
      "139 10 0.6\n",
      "149 13 0.7\n",
      "159 8 0.7\n",
      "169 7 0.5\n",
      "179 9 0.4\n",
      "189 13 0.5\n",
      "199 5 0.4\n",
      "209 10 0.5\n",
      "219 7 0.9\n",
      "229 14 0.8\n",
      "239 5 0.5\n",
      "249 12 0.7\n",
      "259 7 0.4\n",
      "269 9 0.9\n",
      "279 13 0.4\n",
      "289 11 0.7\n",
      "299 9 0.6\n",
      "309 15 0.4\n",
      "319 9 0.8\n",
      "329 14 0.4\n",
      "339 5 0.5\n",
      "349 4 0.5\n",
      "359 12 0.4\n",
      "369 6 0.7\n",
      "379 11 0.6\n",
      "389 12 0.7\n",
      "399 11 0.6\n",
      "409 10 0.7\n",
      "419 16 0.5\n",
      "429 13 0.5\n",
      "439 11 0.5\n",
      "449 13 0.8\n",
      "459 10 0.7\n",
      "469 12 0.9\n",
      "479 6 0.4\n",
      "489 14 0.6\n",
      "499 9 0.8\n",
      "509 9 0.9\n",
      "519 9 0.5\n",
      "529 10 0.5\n",
      "539 14 0.4\n",
      "549 10 0.5\n",
      "559 11 0.6\n",
      "569 8 0.7\n",
      "579 11 0.6\n",
      "589 9 0.5\n",
      "599 10 0.7\n",
      "609 11 0.3\n",
      "619 5 0.5\n",
      "629 6 0.6\n",
      "639 13 0.3\n",
      "649 14 0.5\n",
      "659 15 0.7\n",
      "669 5 0.7\n",
      "679 7 0.6\n",
      "689 9 0.4\n",
      "699 14 0.4\n",
      "709 11 0.5\n",
      "719 11 0.6\n",
      "729 12 0.6\n",
      "739 7 0.3\n",
      "749 6 0.8\n",
      "759 9 0.7\n",
      "769 10 0.7\n",
      "779 16 0.7\n",
      "789 6 0.6\n",
      "799 13 0.6\n",
      "809 5 0.6\n",
      "819 11 0.5\n",
      "829 12 0.7\n",
      "839 16 0.5\n",
      "849 4 0.7\n",
      "859 6 0.3\n",
      "869 8 0.6\n",
      "879 15 0.3\n",
      "889 9 0.6\n",
      "899 15 0.7\n",
      "909 11 0.3\n",
      "919 9 0.5\n",
      "929 14 0.5\n",
      "939 6 0.5\n",
      "949 12 0.5\n",
      "959 12 0.8\n",
      "969 11 0.5\n",
      "979 8 0.5\n",
      "989 4 0.6\n",
      "999 7 0.6\n",
      "Percent of succesful episodes: 57.3%\n"
     ]
    }
   ],
   "source": [
    "tf.reset_default_graph()\n",
    "mainQN = Qnetwork(h_size)\n",
    "\n",
    "init = tf.global_variables_initializer()\n",
    "\n",
    "saver = tf.train.Saver()\n",
    "\n",
    "#create lists to contain total rewards and steps per episode\n",
    "jList = []\n",
    "rList = []\n",
    "total_steps = 0\n",
    "\n",
    "env.play_level = play_level\n",
    "# validation reward system\n",
    "env.reward_rules_only(True)\n",
    "\n",
    "#Make a path for our model to be saved in.\n",
    "if not os.path.exists(path):\n",
    "    os.makedirs(path)\n",
    "\n",
    "with tf.Session() as sess:\n",
    "    sess.run(init)\n",
    "    print('Loading Model...')\n",
    "    ckpt = tf.train.get_checkpoint_state(path)\n",
    "    saver.restore(sess,ckpt.model_checkpoint_path)\n",
    "    for i in range(num_episodes):\n",
    "        #Reset environment and get first new observation\n",
    "        s = env.reset()\n",
    "        s = processState(env.state)\n",
    "        d = False\n",
    "        rAll = 0\n",
    "        j = 0\n",
    "        #The Q-Network\n",
    "        while j < max_epLength: #If the agent takes longer than 50 moves to reach either of the blocks, end the trial.\n",
    "            j+=1\n",
    "            a = sess.run(mainQN.predict,feed_dict={mainQN.scalarInput:[s]})[0]\n",
    "            r = env.step(a)\n",
    "            s1 = processState(env.state)\n",
    "            d = env.terminated\n",
    "            total_steps += 1\n",
    "            rAll += r\n",
    "            s = s1\n",
    "            \n",
    "            if d == True:\n",
    "                break\n",
    "        \n",
    "        jList.append(j)\n",
    "        rList.append(rAll)\n",
    "        if len(rList) % 10 == 0:\n",
    "            print(i, j, np.mean(rList[-10:]))\n",
    "print(\"Percent of succesful episodes: \" + str(100 * sum(rList)/num_episodes) + \"%\")"
   ]
  },
  {
   "cell_type": "markdown",
   "metadata": {},
   "source": [
    "### Checking network learning"
   ]
  },
  {
   "cell_type": "markdown",
   "metadata": {},
   "source": [
    "Mean reward over time"
   ]
  },
  {
   "cell_type": "code",
   "execution_count": 7,
   "metadata": {
    "collapsed": false
   },
   "outputs": [
    {
     "data": {
      "text/plain": [
       "[<matplotlib.lines.Line2D at 0x7f06cc340438>]"
      ]
     },
     "execution_count": 7,
     "metadata": {},
     "output_type": "execute_result"
    },
    {
     "data": {
      "image/png": "[encoded data removed]",
      "text/plain": [
       "<Figure size 432x288 with 1 Axes>"
      ]
     },
     "metadata": {
      "needs_background": "light"
     },
     "output_type": "display_data"
    }
   ],
   "source": [
    "rMat = np.resize(np.array(rList),[len(rList)//100,100])\n",
    "rMean = np.average(rMat,1)\n",
    "plt.plot(rMean)"
   ]
  },
  {
   "cell_type": "code",
   "execution_count": null,
   "metadata": {},
   "outputs": [],
   "source": []
  },
  {
   "cell_type": "code",
   "execution_count": null,
   "metadata": {},
   "outputs": [],
   "source": []
  },
  {
   "cell_type": "code",
   "execution_count": null,
   "metadata": {},
   "outputs": [],
   "source": []
  }
 ],
 "metadata": {
  "anaconda-cloud": {},
  "kernelspec": {
   "display_name": "Python 3",
   "language": "python",
   "name": "python3"
  },
  "language_info": {
   "codemirror_mode": {
    "name": "ipython",
    "version": 3
   },
   "file_extension": ".py",
   "mimetype": "text/x-python",
   "name": "python",
   "nbconvert_exporter": "python",
   "pygments_lexer": "ipython3",
   "version": "3.6.7"
  }
 },
 "nbformat": 4,
 "nbformat_minor": 1
}
